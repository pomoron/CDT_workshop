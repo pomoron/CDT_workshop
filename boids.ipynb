{
 "cells": [
  {
   "cell_type": "code",
   "execution_count": null,
   "id": "26733255-db31-471c-9504-81c72fef3229",
   "metadata": {},
   "outputs": [],
   "source": [
    "import matplotlib.pyplot as plt\n",
    "import numpy as np"
   ]
  },
  {
   "cell_type": "code",
   "execution_count": null,
   "id": "ab2b0688-e6ea-48e6-94c9-c05aa38c1592",
   "metadata": {
    "tags": []
   },
   "outputs": [],
   "source": [
    "lower = [150,300]  #x,y of lower bounds\n",
    "upper = [200,400]  #x,y, upper bounds\n",
    "import random\n",
    "import math\n",
    "pos = []\n",
    "N_boids = 10\n",
    "for i in range(N_boids):\n",
    "    pos.append((random.randint(lower[0],upper[0]),random.randint(lower[1],upper[1])))\n",
    "\n",
    "pos"
   ]
  },
  {
   "cell_type": "code",
   "execution_count": null,
   "id": "83b05297-92c6-4822-b501-32bbd6f52684",
   "metadata": {},
   "outputs": [],
   "source": [
    "lower_v = [5,-10]  #x,y of lower bounds\n",
    "upper_v = [15,5]  #x,y, upper bounds\n",
    "import random\n",
    "import math\n",
    "vel = []\n",
    "N_boids = 10\n",
    "for i in range(N_boids):\n",
    "    vel.append((random.randint(lower_v[0],upper_v[0]),random.randint(lower_v[1],upper_v[1])))\n",
    "\n",
    "vel"
   ]
  },
  {
   "cell_type": "code",
   "execution_count": null,
   "id": "f14a7ea9-0a64-44b5-bfd2-37bfc0108ff2",
   "metadata": {},
   "outputs": [],
   "source": [
    "x_vals = [p[0] for p in pos]\n",
    "y_vals = [p[1] for p in pos]"
   ]
  },
  {
   "cell_type": "code",
   "execution_count": null,
   "id": "d2e326c0-ddce-42f3-9a4e-04ded19bc72c",
   "metadata": {},
   "outputs": [],
   "source": [
    "plt.scatter(x_vals,y_vals)\n",
    "plt.xlim(0,700)\n",
    "plt.ylim(0,700)\n",
    "plt.show"
   ]
  },
  {
   "cell_type": "code",
   "execution_count": null,
   "id": "5fd01603-554c-4b19-b45c-0a7f8667b1ff",
   "metadata": {},
   "outputs": [],
   "source": [
    "def find_centre(pos):\n",
    "    x = 0\n",
    "    y = 0\n",
    "    N = len(pos)\n",
    "    for boid in pos:\n",
    "        x = x + boid[0]\n",
    "        y = y + boid[1]\n",
    "    x_mean = x/N\n",
    "    y_mean = y/N\n",
    "    return x_mean,y_mean\n",
    "        \n",
    "    "
   ]
  },
  {
   "cell_type": "code",
   "execution_count": null,
   "id": "11d36564-4925-4696-a9bb-1859ea9a9540",
   "metadata": {},
   "outputs": [],
   "source": [
    "def find_local_heading(vel,pos):\n",
    "    headings = []\n",
    "    i = 0\n",
    "    N = len(vel)\n",
    "    for i in range(0,N):\n",
    "        p = pos[i]\n",
    "        n_nearby = 0\n",
    "        for k in range(0,N):\n",
    "            heading_x = 0\n",
    "            heading_y = 0\n",
    "            p_nearby = pos[k]\n",
    "            distance = ((p[0]-p_nearby[0])**2+(p[1]-p_nearby[1])**2)**0.5\n",
    "            tol = 5\n",
    "            if distance <= tol:\n",
    "                heading_x = heading_x + vel[k][0]\n",
    "                heading_y = heading_y + vel[k][1]\n",
    "                n_nearby = n_nearby + 1\n",
    "            size_heading = (heading_x**2+heading_y**2)**0.5\n",
    "            heading = (heading_x/size_heading,heading_y/size_heading)\n",
    "            headings.append(heading)\n",
    "            \n",
    "            \n",
    "    return heading\n",
    "                           "
   ]
  },
  {
   "cell_type": "code",
   "execution_count": null,
   "id": "7687cce4-a94b-4245-9882-35d7f0d3062c",
   "metadata": {},
   "outputs": [],
   "source": [
    "def new_velocity(pos,vel,group_centre,local_heading,avoidance):\n",
    "    vector_to_centre = (pos[i])\n",
    "    new_v = "
   ]
  },
  {
   "cell_type": "code",
   "execution_count": null,
   "id": "3493874a-ae69-4585-99eb-79a30abbb20d",
   "metadata": {},
   "outputs": [],
   "source": [
    "def update_scatter(frames):\n",
    "    for i in range(len(pos)):\n",
    "        pos[i] = (pos[i][0] + vel[i][0],pos[i][1] + vel[i][1])\n",
    "        #pos[i][1] = pos[i][1] + vel[i][1]\n",
    "    scat.set_offsets(pos)\n"
   ]
  },
  {
   "cell_type": "code",
   "execution_count": null,
   "id": "44a50dd0-0611-4e69-92a3-ae298e9d1f7d",
   "metadata": {},
   "outputs": [],
   "source": [
    "import matplotlib.animation as animation \n",
    "from IPython.display import HTML\n",
    "anim = animation.FuncAnimation(scat.figure,\n",
    "                               update_scatter,\n",
    "                               frames=50,\n",
    "                               interval=50)\n",
    "\n",
    "anim\n",
    "HTML(anim.to_jshtml())\n"
   ]
  },
  {
   "cell_type": "code",
   "execution_count": null,
   "id": "72dbabdf-af86-4a01-a421-980c20f5b1b8",
   "metadata": {},
   "outputs": [],
   "source": []
  }
 ],
 "metadata": {
  "kernelspec": {
   "display_name": "Python 3 (ipykernel)",
   "language": "python",
   "name": "python3"
  },
  "language_info": {
   "codemirror_mode": {
    "name": "ipython",
    "version": 3
   },
   "file_extension": ".py",
   "mimetype": "text/x-python",
   "name": "python",
   "nbconvert_exporter": "python",
   "pygments_lexer": "ipython3",
   "version": "3.8.12"
  }
 },
 "nbformat": 4,
 "nbformat_minor": 5
}
